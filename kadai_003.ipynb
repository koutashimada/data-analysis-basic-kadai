{
  "nbformat": 4,
  "nbformat_minor": 0,
  "metadata": {
    "colab": {
      "provenance": []
    },
    "kernelspec": {
      "name": "python3",
      "display_name": "Python 3"
    },
    "language_info": {
      "name": "python"
    }
  },
  "cells": [
    {
      "cell_type": "code",
      "execution_count": 15,
      "metadata": {
        "colab": {
          "base_uri": "https://localhost:8080/"
        },
        "id": "jAXQbbCxDc3K",
        "outputId": "f68f844f-93a8-45c8-accf-037854f9a82e"
      },
      "outputs": [
        {
          "output_type": "stream",
          "name": "stdout",
          "text": [
            "47\n"
          ]
        }
      ],
      "source": [
        "import numpy as np\n",
        "A = np.array([[0,1],[2,3],[4,5]])\n",
        "\n",
        "B = np.array([[0,1,2,3],[4,5,6,7]])\n",
        "max = np.dot(A,B)\n",
        "Max =np.max(max)\n",
        "print(Max)\n"
      ]
    }
  ]
}