{
  "nbformat": 4,
  "nbformat_minor": 0,
  "metadata": {
    "colab": {
      "provenance": []
    },
    "kernelspec": {
      "name": "python3",
      "display_name": "Python 3"
    },
    "language_info": {
      "name": "python"
    }
  },
  "cells": [
    {
      "cell_type": "code",
      "source": [
        "from sklearn.datasets import load_wine\n",
        "from sklearn.model_selection import train_test_split\n",
        "from sklearn.tree import DecisionTreeClassifier\n",
        "from sklearn.metrics import accuracy_score\n",
        "import pandas as pd\n",
        "\n",
        "dataset = load_wine()\n",
        "df = pd.DataFrame(data=dataset.data,columns=dataset.feature_names)\n",
        "df['category'] = dataset.target\n",
        "\n",
        "x = dataset.data\n",
        "y = dataset.target\n",
        "\n",
        "train_test_split(x,y, test_size=0.3, random_state=5)\n",
        "x_train,x_test,y_train,y_test = train_test_split(x,y,test_size=0.3, random_state=5)\n",
        "\n",
        "\n",
        "model =DecisionTreeClassifier(random_state=3)\n",
        "model.fit(x_train,y_train)\n",
        "y_pred = model.predict(x_test)\n",
        "accuracy_score(y_test,y_pred)\n",
        "model.score(x_test,y_test)"
      ],
      "metadata": {
        "colab": {
          "base_uri": "https://localhost:8080/"
        },
        "id": "sMpLIk6p2xz8",
        "outputId": "1795f845-686c-44b6-ae25-fa90cca3195a"
      },
      "execution_count": 51,
      "outputs": [
        {
          "output_type": "execute_result",
          "data": {
            "text/plain": [
              "0.9259259259259259"
            ]
          },
          "metadata": {},
          "execution_count": 51
        }
      ]
    }
  ]
}