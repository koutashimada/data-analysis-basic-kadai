{
  "nbformat": 4,
  "nbformat_minor": 0,
  "metadata": {
    "colab": {
      "provenance": []
    },
    "kernelspec": {
      "name": "python3",
      "display_name": "Python 3"
    },
    "language_info": {
      "name": "python"
    }
  },
  "cells": [
    {
      "cell_type": "code",
      "source": [
        "from sklearn.datasets import load_wine\n",
        "from sklearn.model_selection import train_test_split\n",
        "from sklearn.tree import DecisionTreeClassifier\n",
        "from sklearn.metrics import accuracy_score\n",
        "import pandas as pd\n",
        "\n",
        "dataset = load_wine()\n",
        "df = pd.DataFrame(data=dataset.data,columns=dataset.feature_names)\n",
        "df['category'] = dataset.target\n",
        "\n",
        "x = dataset.data\n",
        "y = dataset.target\n",
        "\n",
        "x_train,x_test,y_train,y_test = train_test_split(x,y,test_size=0.3, random_state=5)\n",
        "\n",
        "\n",
        "model =DecisionTreeClassifier(random_state=3)\n",
        "model.fit(x_train,y_train)\n",
        "y_pred = model.predict(x_test)\n",
        "accuracy_score(y_test,y_pred)\n",
        "\n",
        "print(\"Random Forest Accuracy:\", accuracy)\n",
        "print(\"Random Forest Model Score:\", model.score(x_test, y_test))\n",
        "\n",
        "\n"
      ],
      "metadata": {
        "colab": {
          "base_uri": "https://localhost:8080/"
        },
        "id": "sMpLIk6p2xz8",
        "outputId": "8a6224f3-8cc6-4c5d-d52d-c176a73978c2"
      },
      "execution_count": 60,
      "outputs": [
        {
          "output_type": "stream",
          "name": "stdout",
          "text": [
            "Random Forest Accuracy: 0.9444444444444444\n",
            "Random Forest Model Score: 0.9259259259259259\n"
          ]
        }
      ]
    }
  ]
}